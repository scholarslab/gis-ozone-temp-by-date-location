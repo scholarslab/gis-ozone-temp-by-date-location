{
 "cells": [
  {
   "cell_type": "code",
   "execution_count": null,
   "metadata": {},
   "outputs": [],
   "source": [
    "#############################################################################################################\n",
    "## Estimate monthly ozone values based on X,Y point and date information (month)\n",
    "## Coded specifically towards data being provided by researcher, MK\n",
    "## Can easily be adapted to other input data. Changes would probably be need to made to the date logic\n",
    "## \n",
    "## Currently configured to run cell-by-cell in a Notebook. Should be configured properly with functions and main"
   ]
  },
  {
   "cell_type": "code",
   "execution_count": null,
   "metadata": {},
   "outputs": [],
   "source": [
    "import arcpy, os\n",
    "from datetime import datetime\n",
    "\n",
    "arcpy.env.workspace = r'in_memory'\n",
    "arcpy.env.overwriteOutput = True"
   ]
  },
  {
   "cell_type": "code",
   "execution_count": null,
   "metadata": {},
   "outputs": [],
   "source": [
    "## Data should be copied to the same directory that this script is being stored\n",
    "path = os.path.abspath(os.getcwd())\n",
    "\n",
    "## Monthly Total Ozone Means data was pulled from woudc.org and joined to the station points to create this layer\n",
    "monthly_ozone_points_layer =  path + r'\\Data.gdb\\MonthlyTotalOzone_Points'\n",
    "\n",
    "## Data Inputs\n",
    "observations_layer = input(\"Enter Observation Feature Class (Full Path): \")\n",
    "output_layer_location = input(\"Enter Directory Location for Output Feature Class (FGDB Required): \")\n",
    "\n",
    "\n",
    "proc_layer_name = r'proc_layer_20191213_ozone'\n",
    "procname = \"proc_layer__\" + str(datetime.now().strftime(\"%Y%m%d_%H%M\")) + \"_ozone\"\n",
    "arcpy.env.outputCoordinateSystem = arcpy.Describe(observations_layer).spatialReference\n",
    "\n",
    "\n",
    "## Local Variables\n",
    "count = 0\n",
    "results = []\n",
    "kriging_result = None"
   ]
  },
  {
   "cell_type": "code",
   "execution_count": null,
   "metadata": {},
   "outputs": [],
   "source": [
    "print(observations_layer)\n",
    "\n",
    "## Copy ozone and observations layer to in_memory workspace\n",
    "observations = arcpy.CopyFeatures_management(observations_layer, \"observations\")\n",
    "monthly_ozone_points = arcpy.CopyFeatures_management(monthly_ozone_points_layer, \"monthly_ozone_points\")"
   ]
  },
  {
   "cell_type": "code",
   "execution_count": null,
   "metadata": {},
   "outputs": [],
   "source": [
    "if not arcpy.ListFields(observations, \"FromRaster\"):\n",
    "    arcpy.AddField_management(observations,'FromRaster', \"SHORT\")\n",
    "    \n",
    "if not arcpy.ListFields(observations, \"StationCount\"):\n",
    "    arcpy.AddField_management(observations,'StationCount', \"SHORT\")    "
   ]
  },
  {
   "cell_type": "code",
   "execution_count": null,
   "metadata": {},
   "outputs": [],
   "source": [
    "## Extent representing the area of research. This is to limit the processing time for raster creation.\n",
    "\n",
    "desc = arcpy.Describe(monthly_ozone_points_layer)\n",
    "\n",
    "xmin = desc.extent.XMin\n",
    "xmax = desc.extent.XMax\n",
    "ymin = desc.extent.YMin\n",
    "ymax = desc.extent.YMax\n",
    "\n",
    "# print (xmin, ymin, xmax, ymax)\n",
    "\n",
    "arcpy.env.extent = arcpy.Extent(xmin, ymin, xmax, ymax)"
   ]
  },
  {
   "cell_type": "code",
   "execution_count": null,
   "metadata": {},
   "outputs": [],
   "source": [
    "## Lookup to convert full month to month abbreviation\n",
    "monthLookup = {'January':'Jan','February':'Feb','March':'Mar','April':'Apr','May':'May','June':'Jun','July':'Jul','August':'Aug','September':'Sep','October':'Oct','November':'Nov','December':'Dec',}"
   ]
  },
  {
   "cell_type": "code",
   "execution_count": null,
   "metadata": {
    "scrolled": true
   },
   "outputs": [],
   "source": [
    "obs_fields = [field.name for field in arcpy.ListFields(observations)]\n",
    "proc_layer = None\n",
    "from_raster = 0\n",
    "\n",
    "## Loop through observations that contain location data (Lat/Lon) and Year\n",
    "for cnt, row in enumerate(arcpy.da.SearchCursor(observations,where_clause=\"Latitude is not NULL and Year_ is not null\",\n",
    "                            field_names=obs_fields)):\n",
    "\n",
    "## Select row (observation) and copy to in_memory layer\n",
    "    where = \"UnitID = '\" + row[obs_fields.index('UnitID')] + \"'\"\n",
    "    observation_layer = arcpy.management.SelectLayerByAttribute(observations, \"NEW_SELECTION\", where, None)    \n",
    "    observation = arcpy.CopyFeatures_management(observation_layer, \"observation\")\n",
    "\n",
    "    if not row[obs_fields.index('Month_')]:\n",
    "        continue\n",
    "\n",
    "    if not row[obs_fields.index('Month_')].strip() in monthLookup.keys():\n",
    "        print(\"Key Error, Invalid Month: \" + row[obs_fields.index('Month_')])\n",
    "        continue\n",
    "    \n",
    "    month = monthLookup[row[obs_fields.index('Month_')].strip()]\n",
    "    month_field = 'MonthlyTotalOzone_'+month\n",
    "    year = row[obs_fields.index('Year_')]\n",
    "    \n",
    "## Select Ozone stations with data for observation Month/Year    \n",
    "    where = \"MonthlyTotalOzone_Year = \" + str(year) + ' AND MonthlyTotalOzone_' + month + ' > 0'\n",
    "    print(row[obs_fields.index('UnitID')], where)\n",
    "    selection = arcpy.management.SelectLayerByAttribute(monthly_ozone_points, \"NEW_SELECTION\", where, None)\n",
    "    \n",
    "    station_count = int(arcpy.GetCount_management(selection).getOutput(0))\n",
    "    update_fields = ['StationCount','FromRaster']\n",
    "    update_vals = [station_count]\n",
    "    \n",
    "## If there are stations with data, do process    \n",
    "    if station_count > 0:\n",
    "        arcpy.Near_analysis(in_features=observation, near_features=selection, search_radius=\"\", location=\"NO_LOCATION\", angle=\"NO_ANGLE\", method=\"GEODESIC\")\n",
    "\n",
    "## If Kriging runs successfully, get value from Kriging result\n",
    "        try:\n",
    "            kriging_result = arcpy.sa.Kriging(selection, month_field, \"Spherical 100000 # # #\", 100000, \"VARIABLE 12\", None); kriging_result.save(\"kriging_result\" + str(cnt))\n",
    "            update_vals.append(1)\n",
    "            raster_list = [[kriging_result, \"average_uv\"]]\n",
    "            arcpy.gp.ExtractMultiValuesToPoints_sa(observation, raster_list, \"BILINEAR\")\n",
    "            \n",
    "## If Kriging fails, assume too few station points, and populate with value from nearest station.\n",
    "## ***Check processing log to be sure that processing errors are relatedt to input data and not other factors\n",
    "        except Exception as err:\n",
    "            print(\"Kriging Error: \" + str(err))\n",
    "            kriging_result = False\n",
    "            update_vals.append(0)\n",
    "            near_fid = [row[0] for row in arcpy.da.SearchCursor(observation, field_names=['NEAR_FID'])][0]\n",
    "            avg_uv = [row[0] for row in arcpy.da.SearchCursor(monthly_ozone_points, field_names=[month_field], where_clause='OBJECTID='+str(near_fid))][0]\n",
    "            arcpy.AddField_management(observation,'average_uv', \"SINGLE\")\n",
    "            update_fields.append('average_uv')\n",
    "            update_vals.append(avg_uv)\n",
    "## No stations with data, populate attributes with blank values    \n",
    "    else:\n",
    "        arcpy.AddField_management(observation,'NEAR_FID', \"INTEGER\")\n",
    "        arcpy.AddField_management(observation,'NEAR_DIST', \"DOUBLE\")        \n",
    "        arcpy.AddField_management(observation,'average_uv', \"SINGLE\")\n",
    "        update_vals.append(0)\n",
    "        update_fields.append('NEAR_FID')  \n",
    "        update_fields.append('NEAR_DIST')         \n",
    "        update_fields.append('average_uv')   \n",
    "        update_vals.append(0)\n",
    "        update_vals.append(0)\n",
    "        update_vals.append(0)\n",
    "        \n",
    "              \n",
    "## Update observation with station_count and from_raster values. More if any failures.\n",
    "    with arcpy.da.UpdateCursor(observation, field_names=update_fields) as update:\n",
    "        for row in update:\n",
    "            for i in range(len(update_fields)):\n",
    "                row[i] = update_vals[i]\n",
    "                update.updateRow(row) \n",
    "\n",
    "## On first run, create/overwrite proc_layer\n",
    "    if not arcpy.Exists(proc_layer_name):\n",
    "        proc_layer = arcpy.CreateFeatureclass_management(\"in_memory\", proc_layer_name, template=observation)\n",
    "        print(\"Create proc_layer\")\n",
    "\n",
    "\n",
    "## Append observation to proc_layer        \n",
    "    arcpy.Append_management(observation, proc_layer)\n"
   ]
  },
  {
   "cell_type": "code",
   "execution_count": null,
   "metadata": {},
   "outputs": [],
   "source": [
    "## Copy in_memory proc_layer to proc_layer in output directory\n",
    "arcpy.CopyFeatures_management(proc_layer, output_layer_location + \"proc_layer\")"
   ]
  }
 ],
 "metadata": {
  "kernelspec": {
   "display_name": "Python 3",
   "language": "python",
   "name": "python3"
  },
  "language_info": {
   "codemirror_mode": {
    "name": "ipython",
    "version": 3
   },
   "file_extension": ".py",
   "mimetype": "text/x-python",
   "name": "python",
   "nbconvert_exporter": "python",
   "pygments_lexer": "ipython3",
   "version": "3.6.8"
  }
 },
 "nbformat": 4,
 "nbformat_minor": 2
}
